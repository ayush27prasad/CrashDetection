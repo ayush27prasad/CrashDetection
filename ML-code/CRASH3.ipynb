{
 "cells": [
  {
   "cell_type": "code",
   "execution_count": 7,
   "id": "b65029df",
   "metadata": {},
   "outputs": [],
   "source": [
    "import pandas as pd \n",
    "import seaborn as sns\n",
    "import matplotlib.pyplot as plt \n",
    "from sklearn.tree import DecisionTreeClassifier\n",
    "import numpy as np\n",
    "from sklearn.model_selection import train_test_split\n",
    "from sklearn import metrics\n",
    "import math\n"
   ]
  },
  {
   "cell_type": "code",
   "execution_count": 8,
   "id": "ba4bfec6",
   "metadata": {},
   "outputs": [
    {
     "data": {
      "text/html": [
       "<div>\n",
       "<style scoped>\n",
       "    .dataframe tbody tr th:only-of-type {\n",
       "        vertical-align: middle;\n",
       "    }\n",
       "\n",
       "    .dataframe tbody tr th {\n",
       "        vertical-align: top;\n",
       "    }\n",
       "\n",
       "    .dataframe thead th {\n",
       "        text-align: right;\n",
       "    }\n",
       "</style>\n",
       "<table border=\"1\" class=\"dataframe\">\n",
       "  <thead>\n",
       "    <tr style=\"text-align: right;\">\n",
       "      <th></th>\n",
       "      <th>Timestamp</th>\n",
       "      <th>Milliseconds</th>\n",
       "      <th>X</th>\n",
       "      <th>Y</th>\n",
       "      <th>Z</th>\n",
       "    </tr>\n",
       "  </thead>\n",
       "  <tbody>\n",
       "    <tr>\n",
       "      <th>0</th>\n",
       "      <td>2022-11-03 22:54:24</td>\n",
       "      <td>1.0</td>\n",
       "      <td>-2.568978</td>\n",
       "      <td>6.327875</td>\n",
       "      <td>5.537788</td>\n",
       "    </tr>\n",
       "    <tr>\n",
       "      <th>1</th>\n",
       "      <td>2022-11-03 22:54:26</td>\n",
       "      <td>1502.0</td>\n",
       "      <td>-1.448492</td>\n",
       "      <td>6.478710</td>\n",
       "      <td>6.938396</td>\n",
       "    </tr>\n",
       "    <tr>\n",
       "      <th>2</th>\n",
       "      <td>2022-11-03 22:54:27</td>\n",
       "      <td>3002.0</td>\n",
       "      <td>1.022324</td>\n",
       "      <td>5.975927</td>\n",
       "      <td>8.631097</td>\n",
       "    </tr>\n",
       "    <tr>\n",
       "      <th>3</th>\n",
       "      <td>2022-11-03 22:54:29</td>\n",
       "      <td>4501.0</td>\n",
       "      <td>-2.564190</td>\n",
       "      <td>6.603208</td>\n",
       "      <td>11.324574</td>\n",
       "    </tr>\n",
       "    <tr>\n",
       "      <th>4</th>\n",
       "      <td>2022-11-03 22:54:30</td>\n",
       "      <td>6001.0</td>\n",
       "      <td>-0.265756</td>\n",
       "      <td>6.806716</td>\n",
       "      <td>7.481880</td>\n",
       "    </tr>\n",
       "    <tr>\n",
       "      <th>...</th>\n",
       "      <td>...</td>\n",
       "      <td>...</td>\n",
       "      <td>...</td>\n",
       "      <td>...</td>\n",
       "      <td>...</td>\n",
       "    </tr>\n",
       "    <tr>\n",
       "      <th>167</th>\n",
       "      <td>2022-11-03 22:58:35</td>\n",
       "      <td>250502.0</td>\n",
       "      <td>-3.624821</td>\n",
       "      <td>5.616797</td>\n",
       "      <td>10.237606</td>\n",
       "    </tr>\n",
       "    <tr>\n",
       "      <th>168</th>\n",
       "      <td>2022-11-03 22:58:36</td>\n",
       "      <td>252001.0</td>\n",
       "      <td>-0.696713</td>\n",
       "      <td>4.632780</td>\n",
       "      <td>7.917625</td>\n",
       "    </tr>\n",
       "    <tr>\n",
       "      <th>169</th>\n",
       "      <td>2022-11-03 22:58:38</td>\n",
       "      <td>253502.0</td>\n",
       "      <td>-0.067038</td>\n",
       "      <td>5.748478</td>\n",
       "      <td>7.211336</td>\n",
       "    </tr>\n",
       "    <tr>\n",
       "      <th>170</th>\n",
       "      <td>2022-11-03 22:58:39</td>\n",
       "      <td>255001.0</td>\n",
       "      <td>-1.120486</td>\n",
       "      <td>6.579266</td>\n",
       "      <td>6.100426</td>\n",
       "    </tr>\n",
       "    <tr>\n",
       "      <th>171</th>\n",
       "      <td>2022-11-03 22:58:41</td>\n",
       "      <td>256501.0</td>\n",
       "      <td>-0.349553</td>\n",
       "      <td>5.770026</td>\n",
       "      <td>8.829816</td>\n",
       "    </tr>\n",
       "  </tbody>\n",
       "</table>\n",
       "<p>172 rows × 5 columns</p>\n",
       "</div>"
      ],
      "text/plain": [
       "              Timestamp  Milliseconds         X         Y          Z\n",
       "0   2022-11-03 22:54:24           1.0 -2.568978  6.327875   5.537788\n",
       "1   2022-11-03 22:54:26        1502.0 -1.448492  6.478710   6.938396\n",
       "2   2022-11-03 22:54:27        3002.0  1.022324  5.975927   8.631097\n",
       "3   2022-11-03 22:54:29        4501.0 -2.564190  6.603208  11.324574\n",
       "4   2022-11-03 22:54:30        6001.0 -0.265756  6.806716   7.481880\n",
       "..                  ...           ...       ...       ...        ...\n",
       "167 2022-11-03 22:58:35      250502.0 -3.624821  5.616797  10.237606\n",
       "168 2022-11-03 22:58:36      252001.0 -0.696713  4.632780   7.917625\n",
       "169 2022-11-03 22:58:38      253502.0 -0.067038  5.748478   7.211336\n",
       "170 2022-11-03 22:58:39      255001.0 -1.120486  6.579266   6.100426\n",
       "171 2022-11-03 22:58:41      256501.0 -0.349553  5.770026   8.829816\n",
       "\n",
       "[172 rows x 5 columns]"
      ]
     },
     "execution_count": 8,
     "metadata": {},
     "output_type": "execute_result"
    }
   ],
   "source": [
    "df=pd.read_excel('C:\\\\Users\\\\suyas\\\\OneDrive\\\\Desktop\\\\Accelerometer.xlsx')\n",
    "df"
   ]
  },
  {
   "cell_type": "code",
   "execution_count": 9,
   "id": "e485b553",
   "metadata": {},
   "outputs": [
    {
     "data": {
      "text/html": [
       "<div>\n",
       "<style scoped>\n",
       "    .dataframe tbody tr th:only-of-type {\n",
       "        vertical-align: middle;\n",
       "    }\n",
       "\n",
       "    .dataframe tbody tr th {\n",
       "        vertical-align: top;\n",
       "    }\n",
       "\n",
       "    .dataframe thead th {\n",
       "        text-align: right;\n",
       "    }\n",
       "</style>\n",
       "<table border=\"1\" class=\"dataframe\">\n",
       "  <thead>\n",
       "    <tr style=\"text-align: right;\">\n",
       "      <th></th>\n",
       "      <th>Milliseconds</th>\n",
       "      <th>X</th>\n",
       "      <th>Y</th>\n",
       "      <th>Z</th>\n",
       "    </tr>\n",
       "  </thead>\n",
       "  <tbody>\n",
       "    <tr>\n",
       "      <th>count</th>\n",
       "      <td>172.000000</td>\n",
       "      <td>172.000000</td>\n",
       "      <td>172.000000</td>\n",
       "      <td>172.000000</td>\n",
       "    </tr>\n",
       "    <tr>\n",
       "      <th>mean</th>\n",
       "      <td>128251.395349</td>\n",
       "      <td>0.018193</td>\n",
       "      <td>6.434598</td>\n",
       "      <td>7.193643</td>\n",
       "    </tr>\n",
       "    <tr>\n",
       "      <th>std</th>\n",
       "      <td>74694.365087</td>\n",
       "      <td>3.904594</td>\n",
       "      <td>3.757156</td>\n",
       "      <td>2.625133</td>\n",
       "    </tr>\n",
       "    <tr>\n",
       "      <th>min</th>\n",
       "      <td>1.000000</td>\n",
       "      <td>-15.849615</td>\n",
       "      <td>-31.490934</td>\n",
       "      <td>-2.384625</td>\n",
       "    </tr>\n",
       "    <tr>\n",
       "      <th>25%</th>\n",
       "      <td>64126.250000</td>\n",
       "      <td>-1.443105</td>\n",
       "      <td>5.747880</td>\n",
       "      <td>5.647922</td>\n",
       "    </tr>\n",
       "    <tr>\n",
       "      <th>50%</th>\n",
       "      <td>128251.500000</td>\n",
       "      <td>-0.187945</td>\n",
       "      <td>6.591237</td>\n",
       "      <td>7.161058</td>\n",
       "    </tr>\n",
       "    <tr>\n",
       "      <th>75%</th>\n",
       "      <td>192376.250000</td>\n",
       "      <td>0.980426</td>\n",
       "      <td>7.754819</td>\n",
       "      <td>8.726865</td>\n",
       "    </tr>\n",
       "    <tr>\n",
       "      <th>max</th>\n",
       "      <td>256501.000000</td>\n",
       "      <td>40.775650</td>\n",
       "      <td>20.570980</td>\n",
       "      <td>20.791248</td>\n",
       "    </tr>\n",
       "  </tbody>\n",
       "</table>\n",
       "</div>"
      ],
      "text/plain": [
       "        Milliseconds           X           Y           Z\n",
       "count     172.000000  172.000000  172.000000  172.000000\n",
       "mean   128251.395349    0.018193    6.434598    7.193643\n",
       "std     74694.365087    3.904594    3.757156    2.625133\n",
       "min         1.000000  -15.849615  -31.490934   -2.384625\n",
       "25%     64126.250000   -1.443105    5.747880    5.647922\n",
       "50%    128251.500000   -0.187945    6.591237    7.161058\n",
       "75%    192376.250000    0.980426    7.754819    8.726865\n",
       "max    256501.000000   40.775650   20.570980   20.791248"
      ]
     },
     "execution_count": 9,
     "metadata": {},
     "output_type": "execute_result"
    }
   ],
   "source": [
    "df.describe()"
   ]
  },
  {
   "cell_type": "code",
   "execution_count": 10,
   "id": "ce76b5d6",
   "metadata": {},
   "outputs": [
    {
     "data": {
      "text/html": [
       "<div>\n",
       "<style scoped>\n",
       "    .dataframe tbody tr th:only-of-type {\n",
       "        vertical-align: middle;\n",
       "    }\n",
       "\n",
       "    .dataframe tbody tr th {\n",
       "        vertical-align: top;\n",
       "    }\n",
       "\n",
       "    .dataframe thead th {\n",
       "        text-align: right;\n",
       "    }\n",
       "</style>\n",
       "<table border=\"1\" class=\"dataframe\">\n",
       "  <thead>\n",
       "    <tr style=\"text-align: right;\">\n",
       "      <th></th>\n",
       "      <th>Timestamp</th>\n",
       "      <th>Milliseconds</th>\n",
       "      <th>X</th>\n",
       "      <th>Y</th>\n",
       "      <th>Z</th>\n",
       "    </tr>\n",
       "  </thead>\n",
       "  <tbody>\n",
       "    <tr>\n",
       "      <th>0</th>\n",
       "      <td>False</td>\n",
       "      <td>False</td>\n",
       "      <td>False</td>\n",
       "      <td>False</td>\n",
       "      <td>False</td>\n",
       "    </tr>\n",
       "    <tr>\n",
       "      <th>1</th>\n",
       "      <td>False</td>\n",
       "      <td>False</td>\n",
       "      <td>False</td>\n",
       "      <td>False</td>\n",
       "      <td>False</td>\n",
       "    </tr>\n",
       "    <tr>\n",
       "      <th>2</th>\n",
       "      <td>False</td>\n",
       "      <td>False</td>\n",
       "      <td>False</td>\n",
       "      <td>False</td>\n",
       "      <td>False</td>\n",
       "    </tr>\n",
       "    <tr>\n",
       "      <th>3</th>\n",
       "      <td>False</td>\n",
       "      <td>False</td>\n",
       "      <td>False</td>\n",
       "      <td>False</td>\n",
       "      <td>False</td>\n",
       "    </tr>\n",
       "    <tr>\n",
       "      <th>4</th>\n",
       "      <td>False</td>\n",
       "      <td>False</td>\n",
       "      <td>False</td>\n",
       "      <td>False</td>\n",
       "      <td>False</td>\n",
       "    </tr>\n",
       "    <tr>\n",
       "      <th>...</th>\n",
       "      <td>...</td>\n",
       "      <td>...</td>\n",
       "      <td>...</td>\n",
       "      <td>...</td>\n",
       "      <td>...</td>\n",
       "    </tr>\n",
       "    <tr>\n",
       "      <th>167</th>\n",
       "      <td>False</td>\n",
       "      <td>False</td>\n",
       "      <td>False</td>\n",
       "      <td>False</td>\n",
       "      <td>False</td>\n",
       "    </tr>\n",
       "    <tr>\n",
       "      <th>168</th>\n",
       "      <td>False</td>\n",
       "      <td>False</td>\n",
       "      <td>False</td>\n",
       "      <td>False</td>\n",
       "      <td>False</td>\n",
       "    </tr>\n",
       "    <tr>\n",
       "      <th>169</th>\n",
       "      <td>False</td>\n",
       "      <td>False</td>\n",
       "      <td>False</td>\n",
       "      <td>False</td>\n",
       "      <td>False</td>\n",
       "    </tr>\n",
       "    <tr>\n",
       "      <th>170</th>\n",
       "      <td>False</td>\n",
       "      <td>False</td>\n",
       "      <td>False</td>\n",
       "      <td>False</td>\n",
       "      <td>False</td>\n",
       "    </tr>\n",
       "    <tr>\n",
       "      <th>171</th>\n",
       "      <td>False</td>\n",
       "      <td>False</td>\n",
       "      <td>False</td>\n",
       "      <td>False</td>\n",
       "      <td>False</td>\n",
       "    </tr>\n",
       "  </tbody>\n",
       "</table>\n",
       "<p>172 rows × 5 columns</p>\n",
       "</div>"
      ],
      "text/plain": [
       "     Timestamp  Milliseconds      X      Y      Z\n",
       "0        False         False  False  False  False\n",
       "1        False         False  False  False  False\n",
       "2        False         False  False  False  False\n",
       "3        False         False  False  False  False\n",
       "4        False         False  False  False  False\n",
       "..         ...           ...    ...    ...    ...\n",
       "167      False         False  False  False  False\n",
       "168      False         False  False  False  False\n",
       "169      False         False  False  False  False\n",
       "170      False         False  False  False  False\n",
       "171      False         False  False  False  False\n",
       "\n",
       "[172 rows x 5 columns]"
      ]
     },
     "execution_count": 10,
     "metadata": {},
     "output_type": "execute_result"
    }
   ],
   "source": [
    "df.isnull()"
   ]
  },
  {
   "cell_type": "code",
   "execution_count": 11,
   "id": "a9165dfc",
   "metadata": {},
   "outputs": [
    {
     "name": "stderr",
     "output_type": "stream",
     "text": [
      "C:\\Users\\suyas\\anaconda3\\lib\\site-packages\\seaborn\\distributions.py:2619: FutureWarning: `distplot` is a deprecated function and will be removed in a future version. Please adapt your code to use either `displot` (a figure-level function with similar flexibility) or `kdeplot` (an axes-level function for kernel density plots).\n",
      "  warnings.warn(msg, FutureWarning)\n",
      "C:\\Users\\suyas\\anaconda3\\lib\\site-packages\\seaborn\\distributions.py:2619: FutureWarning: `distplot` is a deprecated function and will be removed in a future version. Please adapt your code to use either `displot` (a figure-level function with similar flexibility) or `kdeplot` (an axes-level function for kernel density plots).\n",
      "  warnings.warn(msg, FutureWarning)\n",
      "C:\\Users\\suyas\\anaconda3\\lib\\site-packages\\seaborn\\distributions.py:2619: FutureWarning: `distplot` is a deprecated function and will be removed in a future version. Please adapt your code to use either `displot` (a figure-level function with similar flexibility) or `kdeplot` (an axes-level function for kernel density plots).\n",
      "  warnings.warn(msg, FutureWarning)\n"
     ]
    },
    {
     "data": {
      "text/plain": [
       "<AxesSubplot:xlabel='Z', ylabel='Density'>"
      ]
     },
     "execution_count": 11,
     "metadata": {},
     "output_type": "execute_result"
    },
    {
     "data": {
      "image/png": "[encoded data removed]",
      "text/plain": [
       "<Figure size 432x288 with 1 Axes>"
      ]
     },
     "metadata": {
      "needs_background": "light"
     },
     "output_type": "display_data"
    }
   ],
   "source": [
    "\n",
    "sns.distplot(df['X'],hist=False)\n",
    "sns.distplot(df['Y'],hist=False)\n",
    "sns.distplot(df['Z'],hist=False)"
   ]
  },
  {
   "cell_type": "code",
   "execution_count": 12,
   "id": "0be42491",
   "metadata": {},
   "outputs": [
    {
     "data": {
      "text/plain": [
       "<matplotlib.collections.PathCollection at 0x1fc0bfa6f10>"
      ]
     },
     "execution_count": 12,
     "metadata": {},
     "output_type": "execute_result"
    },
    {
     "data": {
      "image/png": "[encoded data removed]",
      "text/plain": [
       "<Figure size 432x288 with 1 Axes>"
      ]
     },
     "metadata": {
      "needs_background": "light"
     },
     "output_type": "display_data"
    }
   ],
   "source": [
    "time=df['Milliseconds']\n",
    "x1=df['X']\n",
    "plt.scatter(time,x1)"
   ]
  },
  {
   "cell_type": "code",
   "execution_count": 13,
   "id": "80ccd88b",
   "metadata": {},
   "outputs": [
    {
     "data": {
      "text/plain": [
       "<matplotlib.collections.PathCollection at 0x1fc0c016670>"
      ]
     },
     "execution_count": 13,
     "metadata": {},
     "output_type": "execute_result"
    },
    {
     "data": {
      "image/png": "[encoded data removed]",
      "text/plain": [
       "<Figure size 432x288 with 1 Axes>"
      ]
     },
     "metadata": {
      "needs_background": "light"
     },
     "output_type": "display_data"
    }
   ],
   "source": [
    "time=df['Milliseconds']\n",
    "x2=df['Y']\n",
    "plt.scatter(time,x2)"
   ]
  },
  {
   "cell_type": "code",
   "execution_count": 14,
   "id": "caec2911",
   "metadata": {},
   "outputs": [
    {
     "data": {
      "text/html": [
       "<div>\n",
       "<style scoped>\n",
       "    .dataframe tbody tr th:only-of-type {\n",
       "        vertical-align: middle;\n",
       "    }\n",
       "\n",
       "    .dataframe tbody tr th {\n",
       "        vertical-align: top;\n",
       "    }\n",
       "\n",
       "    .dataframe thead th {\n",
       "        text-align: right;\n",
       "    }\n",
       "</style>\n",
       "<table border=\"1\" class=\"dataframe\">\n",
       "  <thead>\n",
       "    <tr style=\"text-align: right;\">\n",
       "      <th></th>\n",
       "      <th>Timestamp</th>\n",
       "      <th>Milliseconds</th>\n",
       "      <th>X</th>\n",
       "      <th>Y</th>\n",
       "      <th>Z</th>\n",
       "      <th>g_force</th>\n",
       "    </tr>\n",
       "  </thead>\n",
       "  <tbody>\n",
       "    <tr>\n",
       "      <th>0</th>\n",
       "      <td>2022-11-03 22:54:24</td>\n",
       "      <td>1.0</td>\n",
       "      <td>-2.568978</td>\n",
       "      <td>6.327875</td>\n",
       "      <td>5.537788</td>\n",
       "      <td>8.792540</td>\n",
       "    </tr>\n",
       "    <tr>\n",
       "      <th>1</th>\n",
       "      <td>2022-11-03 22:54:26</td>\n",
       "      <td>1502.0</td>\n",
       "      <td>-1.448492</td>\n",
       "      <td>6.478710</td>\n",
       "      <td>6.938396</td>\n",
       "      <td>9.602768</td>\n",
       "    </tr>\n",
       "    <tr>\n",
       "      <th>2</th>\n",
       "      <td>2022-11-03 22:54:27</td>\n",
       "      <td>3002.0</td>\n",
       "      <td>1.022324</td>\n",
       "      <td>5.975927</td>\n",
       "      <td>8.631097</td>\n",
       "      <td>10.547639</td>\n",
       "    </tr>\n",
       "    <tr>\n",
       "      <th>3</th>\n",
       "      <td>2022-11-03 22:54:29</td>\n",
       "      <td>4501.0</td>\n",
       "      <td>-2.564190</td>\n",
       "      <td>6.603208</td>\n",
       "      <td>11.324574</td>\n",
       "      <td>13.357522</td>\n",
       "    </tr>\n",
       "    <tr>\n",
       "      <th>4</th>\n",
       "      <td>2022-11-03 22:54:30</td>\n",
       "      <td>6001.0</td>\n",
       "      <td>-0.265756</td>\n",
       "      <td>6.806716</td>\n",
       "      <td>7.481880</td>\n",
       "      <td>10.118326</td>\n",
       "    </tr>\n",
       "    <tr>\n",
       "      <th>...</th>\n",
       "      <td>...</td>\n",
       "      <td>...</td>\n",
       "      <td>...</td>\n",
       "      <td>...</td>\n",
       "      <td>...</td>\n",
       "      <td>...</td>\n",
       "    </tr>\n",
       "    <tr>\n",
       "      <th>167</th>\n",
       "      <td>2022-11-03 22:58:35</td>\n",
       "      <td>250502.0</td>\n",
       "      <td>-3.624821</td>\n",
       "      <td>5.616797</td>\n",
       "      <td>10.237606</td>\n",
       "      <td>12.226869</td>\n",
       "    </tr>\n",
       "    <tr>\n",
       "      <th>168</th>\n",
       "      <td>2022-11-03 22:58:36</td>\n",
       "      <td>252001.0</td>\n",
       "      <td>-0.696713</td>\n",
       "      <td>4.632780</td>\n",
       "      <td>7.917625</td>\n",
       "      <td>9.199829</td>\n",
       "    </tr>\n",
       "    <tr>\n",
       "      <th>169</th>\n",
       "      <td>2022-11-03 22:58:38</td>\n",
       "      <td>253502.0</td>\n",
       "      <td>-0.067038</td>\n",
       "      <td>5.748478</td>\n",
       "      <td>7.211336</td>\n",
       "      <td>9.222411</td>\n",
       "    </tr>\n",
       "    <tr>\n",
       "      <th>170</th>\n",
       "      <td>2022-11-03 22:58:39</td>\n",
       "      <td>255001.0</td>\n",
       "      <td>-1.120486</td>\n",
       "      <td>6.579266</td>\n",
       "      <td>6.100426</td>\n",
       "      <td>9.041981</td>\n",
       "    </tr>\n",
       "    <tr>\n",
       "      <th>171</th>\n",
       "      <td>2022-11-03 22:58:41</td>\n",
       "      <td>256501.0</td>\n",
       "      <td>-0.349553</td>\n",
       "      <td>5.770026</td>\n",
       "      <td>8.829816</td>\n",
       "      <td>10.553722</td>\n",
       "    </tr>\n",
       "  </tbody>\n",
       "</table>\n",
       "<p>172 rows × 6 columns</p>\n",
       "</div>"
      ],
      "text/plain": [
       "              Timestamp  Milliseconds         X         Y          Z  \\\n",
       "0   2022-11-03 22:54:24           1.0 -2.568978  6.327875   5.537788   \n",
       "1   2022-11-03 22:54:26        1502.0 -1.448492  6.478710   6.938396   \n",
       "2   2022-11-03 22:54:27        3002.0  1.022324  5.975927   8.631097   \n",
       "3   2022-11-03 22:54:29        4501.0 -2.564190  6.603208  11.324574   \n",
       "4   2022-11-03 22:54:30        6001.0 -0.265756  6.806716   7.481880   \n",
       "..                  ...           ...       ...       ...        ...   \n",
       "167 2022-11-03 22:58:35      250502.0 -3.624821  5.616797  10.237606   \n",
       "168 2022-11-03 22:58:36      252001.0 -0.696713  4.632780   7.917625   \n",
       "169 2022-11-03 22:58:38      253502.0 -0.067038  5.748478   7.211336   \n",
       "170 2022-11-03 22:58:39      255001.0 -1.120486  6.579266   6.100426   \n",
       "171 2022-11-03 22:58:41      256501.0 -0.349553  5.770026   8.829816   \n",
       "\n",
       "       g_force  \n",
       "0     8.792540  \n",
       "1     9.602768  \n",
       "2    10.547639  \n",
       "3    13.357522  \n",
       "4    10.118326  \n",
       "..         ...  \n",
       "167  12.226869  \n",
       "168   9.199829  \n",
       "169   9.222411  \n",
       "170   9.041981  \n",
       "171  10.553722  \n",
       "\n",
       "[172 rows x 6 columns]"
      ]
     },
     "execution_count": 14,
     "metadata": {},
     "output_type": "execute_result"
    }
   ],
   "source": [
    "asdf=df['X']*df['X']+df['Y']*df['Y']+df['Z']*df['Z']\n",
    "df['g_force']=asdf**0.5\n",
    "df"
   ]
  },
  {
   "cell_type": "code",
   "execution_count": 15,
   "id": "9fe2dc82",
   "metadata": {},
   "outputs": [
    {
     "data": {
      "text/plain": [
       "<seaborn.axisgrid.PairGrid at 0x1fc0c047370>"
      ]
     },
     "execution_count": 15,
     "metadata": {},
     "output_type": "execute_result"
    },
    {
     "data": {
      "image/png": "[encoded data removed]",
      "text/plain": [
       "<Figure size 900x900 with 30 Axes>"
      ]
     },
     "metadata": {
      "needs_background": "light"
     },
     "output_type": "display_data"
    }
   ],
   "source": [
    "sns.pairplot(df)"
   ]
  },
  {
   "cell_type": "code",
   "execution_count": 16,
   "id": "d0e2ddbb",
   "metadata": {},
   "outputs": [
    {
     "data": {
      "text/plain": [
       "[8.792539558322751,\n",
       " 9.60276806145761,\n",
       " 10.547639085545189,\n",
       " 13.357522319982849,\n",
       " 10.118326477065326,\n",
       " 10.023326244971342,\n",
       " 9.787478398821897,\n",
       " 9.994247124645568,\n",
       " 9.941711970628567,\n",
       " 10.344223774831189,\n",
       " 8.688724685749857,\n",
       " 10.187575728427712,\n",
       " 11.22480033431093,\n",
       " 10.20397542501429,\n",
       " 12.420411961116866,\n",
       " 9.256018705211883,\n",
       " 12.681126652200135,\n",
       " 11.281853934251838,\n",
       " 10.36682880376179,\n",
       " 9.831334024356169,\n",
       " 5.1600360385332795,\n",
       " 9.696936885519275,\n",
       " 11.60144912978261,\n",
       " 11.959430326982483,\n",
       " 8.299800879144206,\n",
       " 11.473069364521345,\n",
       " 9.936280187204819,\n",
       " 9.919118342153418,\n",
       " 10.122928744353912,\n",
       " 4.114392955162579,\n",
       " 8.310428236749548,\n",
       " 7.398566380872062,\n",
       " 7.717466039734827,\n",
       " 52.73018500398852,\n",
       " 12.854256417522603,\n",
       " 6.562797704877094,\n",
       " 9.051750077865352,\n",
       " 27.31412433173443,\n",
       " 11.28081938544241,\n",
       " 8.705387165209563,\n",
       " 22.632192906358394,\n",
       " 7.640431549293607,\n",
       " 16.365220604005113,\n",
       " 7.575881582801721,\n",
       " 13.508362709801844,\n",
       " 4.571434612348316,\n",
       " 14.069494255439922,\n",
       " 9.892402574096746,\n",
       " 10.60793609302183,\n",
       " 11.627559028752398,\n",
       " 9.258421494488095,\n",
       " 9.389008892989448,\n",
       " 8.359437299889922,\n",
       " 11.120877024649456,\n",
       " 9.18196330305621,\n",
       " 9.984708996548335,\n",
       " 10.772233620735149,\n",
       " 10.32948888438589,\n",
       " 7.8285274061929275,\n",
       " 10.380015476534325,\n",
       " 12.784433806420152,\n",
       " 9.276825032492367,\n",
       " 7.856851590139655,\n",
       " 4.469382681457414,\n",
       " 10.542740987066068,\n",
       " 12.521993736115526,\n",
       " 11.561406010065223,\n",
       " 13.61323194634873,\n",
       " 8.82661985386939,\n",
       " 9.55679598458825,\n",
       " 10.452018589190358,\n",
       " 12.291522349038909,\n",
       " 12.167125818654515,\n",
       " 9.051224504428216,\n",
       " 11.6308159296432,\n",
       " 12.28519949494965,\n",
       " 10.04028379742821,\n",
       " 9.996430579993769,\n",
       " 11.123874276965921,\n",
       " 10.1330468942937,\n",
       " 7.325123059294198,\n",
       " 9.99943291582333,\n",
       " 9.831634902142175,\n",
       " 10.12417111671671,\n",
       " 9.679867853357536,\n",
       " 10.738517599646693,\n",
       " 8.187847318001113,\n",
       " 8.927714807405582,\n",
       " 9.526425257618191,\n",
       " 9.097528986687326,\n",
       " 12.361741939611909,\n",
       " 10.912143768578177,\n",
       " 11.054307024729262,\n",
       " 9.487448406487728,\n",
       " 11.143824351960625,\n",
       " 6.204563262346575,\n",
       " 7.936732997789482,\n",
       " 7.2441993350653,\n",
       " 12.09617217571382,\n",
       " 8.595548737577776,\n",
       " 7.677364174780339,\n",
       " 11.377939441872664,\n",
       " 7.748918566377021,\n",
       " 11.534514203790666,\n",
       " 9.39492225005707,\n",
       " 9.315184709857627,\n",
       " 11.349876210457726,\n",
       " 10.89765740778654,\n",
       " 9.65367133461646,\n",
       " 11.901837776994284,\n",
       " 12.908798277188508,\n",
       " 9.209462216875428,\n",
       " 9.624215193162202,\n",
       " 9.703688971775849,\n",
       " 8.81112344550972,\n",
       " 9.284483495492836,\n",
       " 11.287378745518287,\n",
       " 7.28230080921386,\n",
       " 14.174987323650099,\n",
       " 12.97759121401391,\n",
       " 9.536254012820562,\n",
       " 12.466461435594711,\n",
       " 8.675980873053188,\n",
       " 8.286579203680942,\n",
       " 9.421470114477065,\n",
       " 13.929823879236105,\n",
       " 13.181473463297253,\n",
       " 8.08981050203147,\n",
       " 13.60920853550561,\n",
       " 10.621636758298424,\n",
       " 7.838121012635374,\n",
       " 8.417907210756598,\n",
       " 13.71874584581807,\n",
       " 7.410546646309116,\n",
       " 11.735859412772538,\n",
       " 13.0296863273142,\n",
       " 12.680862711493814,\n",
       " 13.657011306145026,\n",
       " 10.186200750041666,\n",
       " 11.099539809499701,\n",
       " 6.131665113998809,\n",
       " 7.441154283889332,\n",
       " 9.345136012411484,\n",
       " 11.02867681241071,\n",
       " 8.277854742826943,\n",
       " 8.37394508801396,\n",
       " 9.607989826244966,\n",
       " 9.112674059122728,\n",
       " 14.013323660452073,\n",
       " 9.40125731450601,\n",
       " 10.754262410461479,\n",
       " 11.159420294272005,\n",
       " 9.167779584174495,\n",
       " 9.49936939069616,\n",
       " 9.295424877958506,\n",
       " 12.665789063635884,\n",
       " 10.870640956743802,\n",
       " 8.671477838769563,\n",
       " 14.05474863261542,\n",
       " 10.30062359630692,\n",
       " 12.07040037168284,\n",
       " 8.510040119557097,\n",
       " 18.514306805311186,\n",
       " 8.821201979219449,\n",
       " 10.387241713537334,\n",
       " 9.169040051750134,\n",
       " 9.808577274297352,\n",
       " 12.22686858244346,\n",
       " 9.199828517715224,\n",
       " 9.222410777008285,\n",
       " 9.0419812315975,\n",
       " 10.553721535171743]"
      ]
     },
     "execution_count": 16,
     "metadata": {},
     "output_type": "execute_result"
    }
   ],
   "source": [
    "a=list()\n",
    "for i in  df['g_force']:\n",
    "    a.append(i)\n",
    "a"
   ]
  },
  {
   "cell_type": "code",
   "execution_count": 17,
   "id": "a1f3200b",
   "metadata": {},
   "outputs": [
    {
     "name": "stderr",
     "output_type": "stream",
     "text": [
      "C:\\Users\\suyas\\anaconda3\\lib\\site-packages\\seaborn\\distributions.py:2619: FutureWarning: `distplot` is a deprecated function and will be removed in a future version. Please adapt your code to use either `displot` (a figure-level function with similar flexibility) or `kdeplot` (an axes-level function for kernel density plots).\n",
      "  warnings.warn(msg, FutureWarning)\n"
     ]
    },
    {
     "data": {
      "text/plain": [
       "<AxesSubplot:xlabel='g_force', ylabel='Density'>"
      ]
     },
     "execution_count": 17,
     "metadata": {},
     "output_type": "execute_result"
    },
    {
     "data": {
      "image/png": "[encoded data removed]",
      "text/plain": [
       "<Figure size 432x288 with 1 Axes>"
      ]
     },
     "metadata": {
      "needs_background": "light"
     },
     "output_type": "display_data"
    }
   ],
   "source": [
    "sns.distplot(df['g_force'],hist=False)"
   ]
  },
  {
   "cell_type": "code",
   "execution_count": 18,
   "id": "fa54e1e3",
   "metadata": {},
   "outputs": [],
   "source": [
    "list2=list()\n",
    "for i in a:\n",
    "    if(i>=4.114392955162579 and i<=9.99943291582333):\n",
    "        list2.append(0)\n",
    "    elif i>=10.023326244971342 and i<=14.174987323650099 :\n",
    "        list2.append(1)\n",
    "    else :\n",
    "        list2.append(2)"
   ]
  },
  {
   "cell_type": "code",
   "execution_count": 19,
   "id": "8898394a",
   "metadata": {},
   "outputs": [
    {
     "data": {
      "text/plain": [
       "[0,\n",
       " 0,\n",
       " 1,\n",
       " 1,\n",
       " 1,\n",
       " 1,\n",
       " 0,\n",
       " 0,\n",
       " 0,\n",
       " 1,\n",
       " 0,\n",
       " 1,\n",
       " 1,\n",
       " 1,\n",
       " 1,\n",
       " 0,\n",
       " 1,\n",
       " 1,\n",
       " 1,\n",
       " 0,\n",
       " 0,\n",
       " 0,\n",
       " 1,\n",
       " 1,\n",
       " 0,\n",
       " 1,\n",
       " 0,\n",
       " 0,\n",
       " 1,\n",
       " 0,\n",
       " 0,\n",
       " 0,\n",
       " 0,\n",
       " 2,\n",
       " 1,\n",
       " 0,\n",
       " 0,\n",
       " 2,\n",
       " 1,\n",
       " 0,\n",
       " 2,\n",
       " 0,\n",
       " 2,\n",
       " 0,\n",
       " 1,\n",
       " 0,\n",
       " 1,\n",
       " 0,\n",
       " 1,\n",
       " 1,\n",
       " 0,\n",
       " 0,\n",
       " 0,\n",
       " 1,\n",
       " 0,\n",
       " 0,\n",
       " 1,\n",
       " 1,\n",
       " 0,\n",
       " 1,\n",
       " 1,\n",
       " 0,\n",
       " 0,\n",
       " 0,\n",
       " 1,\n",
       " 1,\n",
       " 1,\n",
       " 1,\n",
       " 0,\n",
       " 0,\n",
       " 1,\n",
       " 1,\n",
       " 1,\n",
       " 0,\n",
       " 1,\n",
       " 1,\n",
       " 1,\n",
       " 0,\n",
       " 1,\n",
       " 1,\n",
       " 0,\n",
       " 0,\n",
       " 0,\n",
       " 1,\n",
       " 0,\n",
       " 1,\n",
       " 0,\n",
       " 0,\n",
       " 0,\n",
       " 0,\n",
       " 1,\n",
       " 1,\n",
       " 1,\n",
       " 0,\n",
       " 1,\n",
       " 0,\n",
       " 0,\n",
       " 0,\n",
       " 1,\n",
       " 0,\n",
       " 0,\n",
       " 1,\n",
       " 0,\n",
       " 1,\n",
       " 0,\n",
       " 0,\n",
       " 1,\n",
       " 1,\n",
       " 0,\n",
       " 1,\n",
       " 1,\n",
       " 0,\n",
       " 0,\n",
       " 0,\n",
       " 0,\n",
       " 0,\n",
       " 1,\n",
       " 0,\n",
       " 1,\n",
       " 1,\n",
       " 0,\n",
       " 1,\n",
       " 0,\n",
       " 0,\n",
       " 0,\n",
       " 1,\n",
       " 1,\n",
       " 0,\n",
       " 1,\n",
       " 1,\n",
       " 0,\n",
       " 0,\n",
       " 1,\n",
       " 0,\n",
       " 1,\n",
       " 1,\n",
       " 1,\n",
       " 1,\n",
       " 1,\n",
       " 1,\n",
       " 0,\n",
       " 0,\n",
       " 0,\n",
       " 1,\n",
       " 0,\n",
       " 0,\n",
       " 0,\n",
       " 0,\n",
       " 1,\n",
       " 0,\n",
       " 1,\n",
       " 1,\n",
       " 0,\n",
       " 0,\n",
       " 0,\n",
       " 1,\n",
       " 1,\n",
       " 0,\n",
       " 1,\n",
       " 1,\n",
       " 1,\n",
       " 0,\n",
       " 2,\n",
       " 0,\n",
       " 1,\n",
       " 0,\n",
       " 0,\n",
       " 1,\n",
       " 0,\n",
       " 0,\n",
       " 0,\n",
       " 1]"
      ]
     },
     "execution_count": 19,
     "metadata": {},
     "output_type": "execute_result"
    }
   ],
   "source": [
    "list2"
   ]
  },
  {
   "cell_type": "code",
   "execution_count": 20,
   "id": "22beec3f",
   "metadata": {},
   "outputs": [
    {
     "data": {
      "text/html": [
       "<div>\n",
       "<style scoped>\n",
       "    .dataframe tbody tr th:only-of-type {\n",
       "        vertical-align: middle;\n",
       "    }\n",
       "\n",
       "    .dataframe tbody tr th {\n",
       "        vertical-align: top;\n",
       "    }\n",
       "\n",
       "    .dataframe thead th {\n",
       "        text-align: right;\n",
       "    }\n",
       "</style>\n",
       "<table border=\"1\" class=\"dataframe\">\n",
       "  <thead>\n",
       "    <tr style=\"text-align: right;\">\n",
       "      <th></th>\n",
       "      <th>Timestamp</th>\n",
       "      <th>Milliseconds</th>\n",
       "      <th>X</th>\n",
       "      <th>Y</th>\n",
       "      <th>Z</th>\n",
       "      <th>g_force</th>\n",
       "      <th>crash</th>\n",
       "    </tr>\n",
       "  </thead>\n",
       "  <tbody>\n",
       "    <tr>\n",
       "      <th>0</th>\n",
       "      <td>2022-11-03 22:54:24</td>\n",
       "      <td>1.0</td>\n",
       "      <td>-2.568978</td>\n",
       "      <td>6.327875</td>\n",
       "      <td>5.537788</td>\n",
       "      <td>8.792540</td>\n",
       "      <td>0</td>\n",
       "    </tr>\n",
       "    <tr>\n",
       "      <th>1</th>\n",
       "      <td>2022-11-03 22:54:26</td>\n",
       "      <td>1502.0</td>\n",
       "      <td>-1.448492</td>\n",
       "      <td>6.478710</td>\n",
       "      <td>6.938396</td>\n",
       "      <td>9.602768</td>\n",
       "      <td>0</td>\n",
       "    </tr>\n",
       "    <tr>\n",
       "      <th>2</th>\n",
       "      <td>2022-11-03 22:54:27</td>\n",
       "      <td>3002.0</td>\n",
       "      <td>1.022324</td>\n",
       "      <td>5.975927</td>\n",
       "      <td>8.631097</td>\n",
       "      <td>10.547639</td>\n",
       "      <td>1</td>\n",
       "    </tr>\n",
       "    <tr>\n",
       "      <th>3</th>\n",
       "      <td>2022-11-03 22:54:29</td>\n",
       "      <td>4501.0</td>\n",
       "      <td>-2.564190</td>\n",
       "      <td>6.603208</td>\n",
       "      <td>11.324574</td>\n",
       "      <td>13.357522</td>\n",
       "      <td>1</td>\n",
       "    </tr>\n",
       "    <tr>\n",
       "      <th>4</th>\n",
       "      <td>2022-11-03 22:54:30</td>\n",
       "      <td>6001.0</td>\n",
       "      <td>-0.265756</td>\n",
       "      <td>6.806716</td>\n",
       "      <td>7.481880</td>\n",
       "      <td>10.118326</td>\n",
       "      <td>1</td>\n",
       "    </tr>\n",
       "    <tr>\n",
       "      <th>...</th>\n",
       "      <td>...</td>\n",
       "      <td>...</td>\n",
       "      <td>...</td>\n",
       "      <td>...</td>\n",
       "      <td>...</td>\n",
       "      <td>...</td>\n",
       "      <td>...</td>\n",
       "    </tr>\n",
       "    <tr>\n",
       "      <th>167</th>\n",
       "      <td>2022-11-03 22:58:35</td>\n",
       "      <td>250502.0</td>\n",
       "      <td>-3.624821</td>\n",
       "      <td>5.616797</td>\n",
       "      <td>10.237606</td>\n",
       "      <td>12.226869</td>\n",
       "      <td>1</td>\n",
       "    </tr>\n",
       "    <tr>\n",
       "      <th>168</th>\n",
       "      <td>2022-11-03 22:58:36</td>\n",
       "      <td>252001.0</td>\n",
       "      <td>-0.696713</td>\n",
       "      <td>4.632780</td>\n",
       "      <td>7.917625</td>\n",
       "      <td>9.199829</td>\n",
       "      <td>0</td>\n",
       "    </tr>\n",
       "    <tr>\n",
       "      <th>169</th>\n",
       "      <td>2022-11-03 22:58:38</td>\n",
       "      <td>253502.0</td>\n",
       "      <td>-0.067038</td>\n",
       "      <td>5.748478</td>\n",
       "      <td>7.211336</td>\n",
       "      <td>9.222411</td>\n",
       "      <td>0</td>\n",
       "    </tr>\n",
       "    <tr>\n",
       "      <th>170</th>\n",
       "      <td>2022-11-03 22:58:39</td>\n",
       "      <td>255001.0</td>\n",
       "      <td>-1.120486</td>\n",
       "      <td>6.579266</td>\n",
       "      <td>6.100426</td>\n",
       "      <td>9.041981</td>\n",
       "      <td>0</td>\n",
       "    </tr>\n",
       "    <tr>\n",
       "      <th>171</th>\n",
       "      <td>2022-11-03 22:58:41</td>\n",
       "      <td>256501.0</td>\n",
       "      <td>-0.349553</td>\n",
       "      <td>5.770026</td>\n",
       "      <td>8.829816</td>\n",
       "      <td>10.553722</td>\n",
       "      <td>1</td>\n",
       "    </tr>\n",
       "  </tbody>\n",
       "</table>\n",
       "<p>172 rows × 7 columns</p>\n",
       "</div>"
      ],
      "text/plain": [
       "              Timestamp  Milliseconds         X         Y          Z  \\\n",
       "0   2022-11-03 22:54:24           1.0 -2.568978  6.327875   5.537788   \n",
       "1   2022-11-03 22:54:26        1502.0 -1.448492  6.478710   6.938396   \n",
       "2   2022-11-03 22:54:27        3002.0  1.022324  5.975927   8.631097   \n",
       "3   2022-11-03 22:54:29        4501.0 -2.564190  6.603208  11.324574   \n",
       "4   2022-11-03 22:54:30        6001.0 -0.265756  6.806716   7.481880   \n",
       "..                  ...           ...       ...       ...        ...   \n",
       "167 2022-11-03 22:58:35      250502.0 -3.624821  5.616797  10.237606   \n",
       "168 2022-11-03 22:58:36      252001.0 -0.696713  4.632780   7.917625   \n",
       "169 2022-11-03 22:58:38      253502.0 -0.067038  5.748478   7.211336   \n",
       "170 2022-11-03 22:58:39      255001.0 -1.120486  6.579266   6.100426   \n",
       "171 2022-11-03 22:58:41      256501.0 -0.349553  5.770026   8.829816   \n",
       "\n",
       "       g_force  crash  \n",
       "0     8.792540      0  \n",
       "1     9.602768      0  \n",
       "2    10.547639      1  \n",
       "3    13.357522      1  \n",
       "4    10.118326      1  \n",
       "..         ...    ...  \n",
       "167  12.226869      1  \n",
       "168   9.199829      0  \n",
       "169   9.222411      0  \n",
       "170   9.041981      0  \n",
       "171  10.553722      1  \n",
       "\n",
       "[172 rows x 7 columns]"
      ]
     },
     "execution_count": 20,
     "metadata": {},
     "output_type": "execute_result"
    }
   ],
   "source": [
    "df['crash']=list2\n",
    "df"
   ]
  },
  {
   "cell_type": "code",
   "execution_count": 21,
   "id": "7f77d0c2",
   "metadata": {},
   "outputs": [
    {
     "data": {
      "text/html": [
       "<div>\n",
       "<style scoped>\n",
       "    .dataframe tbody tr th:only-of-type {\n",
       "        vertical-align: middle;\n",
       "    }\n",
       "\n",
       "    .dataframe tbody tr th {\n",
       "        vertical-align: top;\n",
       "    }\n",
       "\n",
       "    .dataframe thead th {\n",
       "        text-align: right;\n",
       "    }\n",
       "</style>\n",
       "<table border=\"1\" class=\"dataframe\">\n",
       "  <thead>\n",
       "    <tr style=\"text-align: right;\">\n",
       "      <th></th>\n",
       "      <th>Milliseconds</th>\n",
       "      <th>X</th>\n",
       "      <th>Y</th>\n",
       "      <th>Z</th>\n",
       "      <th>g_force</th>\n",
       "    </tr>\n",
       "  </thead>\n",
       "  <tbody>\n",
       "    <tr>\n",
       "      <th>0</th>\n",
       "      <td>1.0</td>\n",
       "      <td>-2.568978</td>\n",
       "      <td>6.327875</td>\n",
       "      <td>5.537788</td>\n",
       "      <td>8.792540</td>\n",
       "    </tr>\n",
       "    <tr>\n",
       "      <th>1</th>\n",
       "      <td>1502.0</td>\n",
       "      <td>-1.448492</td>\n",
       "      <td>6.478710</td>\n",
       "      <td>6.938396</td>\n",
       "      <td>9.602768</td>\n",
       "    </tr>\n",
       "    <tr>\n",
       "      <th>2</th>\n",
       "      <td>3002.0</td>\n",
       "      <td>1.022324</td>\n",
       "      <td>5.975927</td>\n",
       "      <td>8.631097</td>\n",
       "      <td>10.547639</td>\n",
       "    </tr>\n",
       "    <tr>\n",
       "      <th>3</th>\n",
       "      <td>4501.0</td>\n",
       "      <td>-2.564190</td>\n",
       "      <td>6.603208</td>\n",
       "      <td>11.324574</td>\n",
       "      <td>13.357522</td>\n",
       "    </tr>\n",
       "    <tr>\n",
       "      <th>4</th>\n",
       "      <td>6001.0</td>\n",
       "      <td>-0.265756</td>\n",
       "      <td>6.806716</td>\n",
       "      <td>7.481880</td>\n",
       "      <td>10.118326</td>\n",
       "    </tr>\n",
       "    <tr>\n",
       "      <th>...</th>\n",
       "      <td>...</td>\n",
       "      <td>...</td>\n",
       "      <td>...</td>\n",
       "      <td>...</td>\n",
       "      <td>...</td>\n",
       "    </tr>\n",
       "    <tr>\n",
       "      <th>167</th>\n",
       "      <td>250502.0</td>\n",
       "      <td>-3.624821</td>\n",
       "      <td>5.616797</td>\n",
       "      <td>10.237606</td>\n",
       "      <td>12.226869</td>\n",
       "    </tr>\n",
       "    <tr>\n",
       "      <th>168</th>\n",
       "      <td>252001.0</td>\n",
       "      <td>-0.696713</td>\n",
       "      <td>4.632780</td>\n",
       "      <td>7.917625</td>\n",
       "      <td>9.199829</td>\n",
       "    </tr>\n",
       "    <tr>\n",
       "      <th>169</th>\n",
       "      <td>253502.0</td>\n",
       "      <td>-0.067038</td>\n",
       "      <td>5.748478</td>\n",
       "      <td>7.211336</td>\n",
       "      <td>9.222411</td>\n",
       "    </tr>\n",
       "    <tr>\n",
       "      <th>170</th>\n",
       "      <td>255001.0</td>\n",
       "      <td>-1.120486</td>\n",
       "      <td>6.579266</td>\n",
       "      <td>6.100426</td>\n",
       "      <td>9.041981</td>\n",
       "    </tr>\n",
       "    <tr>\n",
       "      <th>171</th>\n",
       "      <td>256501.0</td>\n",
       "      <td>-0.349553</td>\n",
       "      <td>5.770026</td>\n",
       "      <td>8.829816</td>\n",
       "      <td>10.553722</td>\n",
       "    </tr>\n",
       "  </tbody>\n",
       "</table>\n",
       "<p>172 rows × 5 columns</p>\n",
       "</div>"
      ],
      "text/plain": [
       "     Milliseconds         X         Y          Z    g_force\n",
       "0             1.0 -2.568978  6.327875   5.537788   8.792540\n",
       "1          1502.0 -1.448492  6.478710   6.938396   9.602768\n",
       "2          3002.0  1.022324  5.975927   8.631097  10.547639\n",
       "3          4501.0 -2.564190  6.603208  11.324574  13.357522\n",
       "4          6001.0 -0.265756  6.806716   7.481880  10.118326\n",
       "..            ...       ...       ...        ...        ...\n",
       "167      250502.0 -3.624821  5.616797  10.237606  12.226869\n",
       "168      252001.0 -0.696713  4.632780   7.917625   9.199829\n",
       "169      253502.0 -0.067038  5.748478   7.211336   9.222411\n",
       "170      255001.0 -1.120486  6.579266   6.100426   9.041981\n",
       "171      256501.0 -0.349553  5.770026   8.829816  10.553722\n",
       "\n",
       "[172 rows x 5 columns]"
      ]
     },
     "execution_count": 21,
     "metadata": {},
     "output_type": "execute_result"
    }
   ],
   "source": [
    "x=df.drop(columns=['crash','Timestamp'])\n",
    "x"
   ]
  },
  {
   "cell_type": "code",
   "execution_count": 22,
   "id": "42866843",
   "metadata": {},
   "outputs": [
    {
     "data": {
      "text/plain": [
       "0      0\n",
       "1      0\n",
       "2      1\n",
       "3      1\n",
       "4      1\n",
       "      ..\n",
       "167    1\n",
       "168    0\n",
       "169    0\n",
       "170    0\n",
       "171    1\n",
       "Name: crash, Length: 172, dtype: int64"
      ]
     },
     "execution_count": 22,
     "metadata": {},
     "output_type": "execute_result"
    }
   ],
   "source": [
    "y=df['crash']\n",
    "y"
   ]
  },
  {
   "cell_type": "code",
   "execution_count": 23,
   "id": "ca26d1d4",
   "metadata": {},
   "outputs": [],
   "source": [
    "df0=df[df['crash']==0]\n",
    "df1=df[df['crash']==1]\n",
    "df2=df[df['crash']==2]\n"
   ]
  },
  {
   "cell_type": "code",
   "execution_count": 24,
   "id": "c74aa65f",
   "metadata": {},
   "outputs": [
    {
     "data": {
      "text/plain": [
       "<matplotlib.collections.PathCollection at 0x1fc0d2e3730>"
      ]
     },
     "execution_count": 24,
     "metadata": {},
     "output_type": "execute_result"
    },
    {
     "data": {
      "image/png": "[encoded data removed]",
      "text/plain": [
       "<Figure size 432x288 with 1 Axes>"
      ]
     },
     "metadata": {
      "needs_background": "light"
     },
     "output_type": "display_data"
    }
   ],
   "source": [
    "plt.scatter(df0['g_force'],df0['X'],color='green',marker='*')\n",
    "plt.scatter(df1['g_force'],df1['X'],color='blue')\n",
    "plt.scatter(df2['g_force'],df2['X'],color='red',marker='+')"
   ]
  },
  {
   "cell_type": "code",
   "execution_count": 25,
   "id": "41a366a2",
   "metadata": {},
   "outputs": [],
   "source": [
    "x_train,x_test,y_train,y_test=train_test_split(x,y)"
   ]
  },
  {
   "cell_type": "code",
   "execution_count": 26,
   "id": "848c7acd",
   "metadata": {},
   "outputs": [
    {
     "data": {
      "text/plain": [
       "129"
      ]
     },
     "execution_count": 26,
     "metadata": {},
     "output_type": "execute_result"
    }
   ],
   "source": [
    "len(x_train)"
   ]
  },
  {
   "cell_type": "code",
   "execution_count": 27,
   "id": "360c637a",
   "metadata": {},
   "outputs": [
    {
     "data": {
      "text/plain": [
       "43"
      ]
     },
     "execution_count": 27,
     "metadata": {},
     "output_type": "execute_result"
    }
   ],
   "source": [
    "len(x_test)"
   ]
  },
  {
   "cell_type": "code",
   "execution_count": 28,
   "id": "5c7eae87",
   "metadata": {},
   "outputs": [],
   "source": [
    "from sklearn.tree import DecisionTreeClassifier"
   ]
  },
  {
   "cell_type": "code",
   "execution_count": 29,
   "id": "f8e296ba",
   "metadata": {},
   "outputs": [],
   "source": [
    "clf=DecisionTreeClassifier()"
   ]
  },
  {
   "cell_type": "code",
   "execution_count": 30,
   "id": "416aa056",
   "metadata": {},
   "outputs": [
    {
     "data": {
      "text/plain": [
       "DecisionTreeClassifier()"
      ]
     },
     "execution_count": 30,
     "metadata": {},
     "output_type": "execute_result"
    }
   ],
   "source": [
    "clf.fit(x_train,y_train)"
   ]
  },
  {
   "cell_type": "code",
   "execution_count": 31,
   "id": "80de8221",
   "metadata": {},
   "outputs": [
    {
     "data": {
      "text/plain": [
       "pandas.core.frame.DataFrame"
      ]
     },
     "execution_count": 31,
     "metadata": {},
     "output_type": "execute_result"
    }
   ],
   "source": [
    "type(df)"
   ]
  },
  {
   "cell_type": "code",
   "execution_count": 32,
   "id": "c46c0384",
   "metadata": {},
   "outputs": [
    {
     "data": {
      "text/plain": [
       "[Text(0.4, 0.8333333333333334, 'X[4] <= 10.011\\ngini = 0.521\\nsamples = 129\\nvalue = [66, 60, 3]'),\n",
       " Text(0.2, 0.5, 'gini = 0.0\\nsamples = 66\\nvalue = [66, 0, 0]'),\n",
       " Text(0.6, 0.5, 'X[4] <= 16.345\\ngini = 0.091\\nsamples = 63\\nvalue = [0, 60, 3]'),\n",
       " Text(0.4, 0.16666666666666666, 'gini = 0.0\\nsamples = 60\\nvalue = [0, 60, 0]'),\n",
       " Text(0.8, 0.16666666666666666, 'gini = 0.0\\nsamples = 3\\nvalue = [0, 0, 3]')]"
      ]
     },
     "execution_count": 32,
     "metadata": {},
     "output_type": "execute_result"
    },
    {
     "data": {
      "image/png": "[encoded data removed]",
      "text/plain": [
       "<Figure size 432x288 with 1 Axes>"
      ]
     },
     "metadata": {
      "needs_background": "light"
     },
     "output_type": "display_data"
    }
   ],
   "source": [
    "from sklearn.tree import plot_tree\n",
    "plot_tree(clf)"
   ]
  },
  {
   "cell_type": "code",
   "execution_count": 33,
   "id": "73c22cf5",
   "metadata": {},
   "outputs": [
    {
     "data": {
      "text/plain": [
       "1.0"
      ]
     },
     "execution_count": 33,
     "metadata": {},
     "output_type": "execute_result"
    }
   ],
   "source": [
    "clf.score(x_test,y_test)"
   ]
  },
  {
   "cell_type": "code",
   "execution_count": 34,
   "id": "9d6299aa",
   "metadata": {},
   "outputs": [
    {
     "data": {
      "text/plain": [
       "array([1, 1, 0, 1, 2, 0, 0, 0, 1, 0, 0, 1, 0, 0, 1, 1, 0, 2, 1, 0, 1, 0,\n",
       "       0, 1, 1, 1, 1, 1, 0, 0, 0, 1, 0, 1, 1, 0, 0, 1, 0, 1, 0, 0, 0],\n",
       "      dtype=int64)"
      ]
     },
     "execution_count": 34,
     "metadata": {},
     "output_type": "execute_result"
    }
   ],
   "source": [
    "y_predict=clf.predict(x_test)\n",
    "y_predict"
   ]
  },
  {
   "cell_type": "code",
   "execution_count": 35,
   "id": "308d0313",
   "metadata": {},
   "outputs": [],
   "source": [
    "from sklearn.svm import SVC\n",
    "model=SVC()"
   ]
  },
  {
   "cell_type": "code",
   "execution_count": 36,
   "id": "0599fdbc",
   "metadata": {},
   "outputs": [
    {
     "data": {
      "text/plain": [
       "SVC()"
      ]
     },
     "execution_count": 36,
     "metadata": {},
     "output_type": "execute_result"
    }
   ],
   "source": [
    "model.fit(x_train,y_train)"
   ]
  },
  {
   "cell_type": "code",
   "execution_count": 37,
   "id": "ab3d1a2c",
   "metadata": {},
   "outputs": [
    {
     "data": {
      "text/plain": [
       "0.5116279069767442"
      ]
     },
     "execution_count": 37,
     "metadata": {},
     "output_type": "execute_result"
    }
   ],
   "source": [
    "model.score(x_test,y_test)"
   ]
  },
  {
   "cell_type": "code",
   "execution_count": 38,
   "id": "ba4e08af",
   "metadata": {},
   "outputs": [],
   "source": [
    "from sklearn.ensemble import RandomForestClassifier"
   ]
  },
  {
   "cell_type": "code",
   "execution_count": 39,
   "id": "f19bbba7",
   "metadata": {},
   "outputs": [
    {
     "data": {
      "text/plain": [
       "RandomForestClassifier()"
      ]
     },
     "execution_count": 39,
     "metadata": {},
     "output_type": "execute_result"
    }
   ],
   "source": [
    "reg_rand = RandomForestClassifier(n_estimators=100)\n",
    "reg_rand.fit(x_train,y_train)\n",
    "\n"
   ]
  },
  {
   "cell_type": "code",
   "execution_count": 40,
   "id": "5ec31718",
   "metadata": {},
   "outputs": [
    {
     "data": {
      "text/plain": [
       "0.9534883720930233"
      ]
     },
     "execution_count": 40,
     "metadata": {},
     "output_type": "execute_result"
    }
   ],
   "source": [
    "reg_rand.score(x_test,y_test)"
   ]
  },
  {
   "cell_type": "code",
   "execution_count": null,
   "id": "52e84f23",
   "metadata": {},
   "outputs": [],
   "source": [
    "\n"
   ]
  },
  {
   "cell_type": "code",
   "execution_count": 42,
   "id": "a9a6c952",
   "metadata": {},
   "outputs": [],
   "source": [
    "import pickle\n",
    "pickle.dump(reg_rand ,open('model.pkl','wb'))"
   ]
  },
  {
   "cell_type": "code",
   "execution_count": null,
   "id": "2b76d711",
   "metadata": {},
   "outputs": [],
   "source": []
  }
 ],
 "metadata": {
  "kernelspec": {
   "display_name": "Python 3 (ipykernel)",
   "language": "python",
   "name": "python3"
  },
  "language_info": {
   "codemirror_mode": {
    "name": "ipython",
    "version": 3
   },
   "file_extension": ".py",
   "mimetype": "text/x-python",
   "name": "python",
   "nbconvert_exporter": "python",
   "pygments_lexer": "ipython3",
   "version": "3.9.12"
  }
 },
 "nbformat": 4,
 "nbformat_minor": 5
}
